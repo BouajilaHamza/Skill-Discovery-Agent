{
 "cells": [
  {
   "cell_type": "code",
   "execution_count": null,
   "metadata": {},
   "outputs": [
    {
     "name": "stdout",
     "output_type": "stream",
     "text": [
      "b'<?xml version=\"1.0\" encoding=\"utf-8\"?><Series State=\"Success\"/>'\n"
     ]
    }
   ],
   "source": [
    "import requests\n",
    "\n",
    "_request =  \"\"\"<QueryMessage SourceId='C_FOREIGNTRADE'>\n",
    "                <Period From='1.06.2011' To='2.2.2013' Frequency='Y|M'></Period>\n",
    "                <DataWhere>\n",
    "                    <Dimension Id='RDS_DICT_FT_COUNTRIES'>\n",
    "                        <Element>9999</Element>\n",
    "                    </Dimension>\n",
    "                    <Dimension Id='RDS_DICT_FT_PRODUCTS'>\n",
    "                        <Element>23</Element>\n",
    "                        <Element>24</Element>\n",
    "                    </Dimension>\n",
    "                </DataWhere>\n",
    "                </QueryMessage>\n",
    "            \"\"\"\n",
    "\n",
    "headers = {\n",
    "    'content-type': \"text/xml; charset=UTF-8\",\n",
    "}\n",
    "\n",
    "response = requests.post('http://dataportal.ins.tn/WebApi/GetData', data=_request, headers=headers)\n",
    "\n",
    "print(response.content)"
   ]
  },
  {
   "cell_type": "code",
   "execution_count": 3,
   "metadata": {},
   "outputs": [
    {
     "data": {
      "text/plain": [
       "<Response [200]>"
      ]
     },
     "execution_count": 3,
     "metadata": {},
     "output_type": "execute_result"
    }
   ],
   "source": [
    "response"
   ]
  },
  {
   "cell_type": "code",
   "execution_count": 5,
   "metadata": {},
   "outputs": [
    {
     "data": {
      "text/plain": [
       "'<?xml version=\"1.0\" encoding=\"utf-8\"?><Series State=\"Success\"/>'"
      ]
     },
     "execution_count": 5,
     "metadata": {},
     "output_type": "execute_result"
    }
   ],
   "source": [
    "response.text"
   ]
  },
  {
   "cell_type": "code",
   "execution_count": null,
   "metadata": {},
   "outputs": [],
   "source": []
  }
 ],
 "metadata": {
  "kernelspec": {
   "display_name": "uns-ml",
   "language": "python",
   "name": "python3"
  },
  "language_info": {
   "codemirror_mode": {
    "name": "ipython",
    "version": 3
   },
   "file_extension": ".py",
   "mimetype": "text/x-python",
   "name": "python",
   "nbconvert_exporter": "python",
   "pygments_lexer": "ipython3",
   "version": "3.11.8"
  }
 },
 "nbformat": 4,
 "nbformat_minor": 2
}
